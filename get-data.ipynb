{
 "cells": [
  {
   "cell_type": "code",
   "execution_count": null,
   "metadata": {
    "collapsed": true
   },
   "outputs": [],
   "source": [
    "\"\"\"\n",
    "Below is the non-functional way of doing things.\n",
    "\n",
    "Data structures and \n",
    "\"\"\""
   ]
  },
  {
   "cell_type": "code",
   "execution_count": 53,
   "metadata": {
    "collapsed": true
   },
   "outputs": [
    {
     "name": "stdout",
     "output_type": "stream",
     "text": [
      "[{'name': 'Sunset Rubdown', 'country': 'Canada', 'active': False}, {'name': 'Women', 'country': 'Canada', 'active': False}, {'name': 'A Silver Mt Zion', 'country': 'Canada', 'active': True}]\n"
     ]
    }
   ],
   "source": [
    "bands = [{'name': 'sunset rubdown', 'country': 'UK', 'active': False},\n",
    "         {'name': 'women', 'country': 'Germany', 'active': False},\n",
    "         {'name': 'a silver mt. zion', 'country': 'Spain', 'active': True}]\n",
    "\n",
    "def format_bands(bands):\n",
    "    for band in bands:\n",
    "        band['country'] = 'Canada'\n",
    "        band['name'] = band['name'].replace('.', '')\n",
    "        band['name'] = band['name'].title()\n",
    "\n",
    "format_bands(bands)\n",
    "print(bands)"
   ]
  },
  {
   "cell_type": "code",
   "execution_count": null,
   "metadata": {
    "collapsed": true
   },
   "outputs": [],
   "source": [
    "\"\"\"\n",
    "\n",
    "\"\"\""
   ]
  },
  {
   "cell_type": "code",
   "execution_count": 70,
   "metadata": {},
   "outputs": [],
   "source": [
    "from functools import reduce"
   ]
  },
  {
   "cell_type": "code",
   "execution_count": 40,
   "metadata": {
    "collapsed": true
   },
   "outputs": [],
   "source": [
    "def assoc(_d, key, value):\n",
    "    from copy import deepcopy\n",
    "    d = deepcopy(_d)\n",
    "    d[key] = value\n",
    "    return d\n",
    "\n",
    "def set_canada_as_country(band):\n",
    "    return assoc(band, 'country', \"Canada\")\n",
    "\n",
    "def strip_punctuation_from_name(band):\n",
    "    return assoc(band, 'name', band['name'].replace('.', ''))\n",
    "\n",
    "def capitalize_names(band):\n",
    "    return assoc(band, 'name', band['name'].title())"
   ]
  },
  {
   "cell_type": "code",
   "execution_count": 41,
   "metadata": {
    "collapsed": true
   },
   "outputs": [],
   "source": [
    "def pipeline_each(data, fns):\n",
    "    return reduce(lambda a, x: map(x, a),\n",
    "                  fns,\n",
    "                  data)"
   ]
  },
  {
   "cell_type": "code",
   "execution_count": 71,
   "metadata": {},
   "outputs": [],
   "source": [
    "map_out = pipeline_each(bands, [set_canada_as_country,\n",
    "                            strip_punctuation_from_name,\n",
    "                            capitalize_names])"
   ]
  },
  {
   "cell_type": "code",
   "execution_count": 72,
   "metadata": {},
   "outputs": [
    {
     "name": "stdout",
     "output_type": "stream",
     "text": [
      "{'name': 'Sunset Rubdown', 'country': 'Canada', 'active': False}\n",
      "{'name': 'Women', 'country': 'Canada', 'active': False}\n",
      "{'name': 'A Silver Mt Zion', 'country': 'Canada', 'active': True}\n"
     ]
    }
   ],
   "source": [
    "for item in map_out:\n",
    "    print(item)"
   ]
  },
  {
   "cell_type": "code",
   "execution_count": 50,
   "metadata": {
    "collapsed": true
   },
   "outputs": [],
   "source": [
    "def assoc(_d, key, value):\n",
    "    from copy import deepcopy\n",
    "    d = deepcopy(_d)\n",
    "    d[key] = value\n",
    "    return d\n",
    "\n",
    "def call(fn, key):\n",
    "    def apply_fn(record):\n",
    "        return assoc(record, key, fn(record.get(key)))\n",
    "    return apply_fn"
   ]
  },
  {
   "cell_type": "code",
   "execution_count": 51,
   "metadata": {
    "collapsed": true
   },
   "outputs": [],
   "source": [
    "def extract_name_and_country(band):\n",
    "    plucked_band = {}\n",
    "    plucked_band['name'] = band['name']\n",
    "    plucked_band['country'] = band['country']\n",
    "    return plucked_band"
   ]
  },
  {
   "cell_type": "code",
   "execution_count": 68,
   "metadata": {},
   "outputs": [],
   "source": [
    "bands = [{'name': 'sunset rubdown', 'country': 'UK', 'active': False},\n",
    "         {'name': 'women', 'country': 'Germany', 'active': False},\n",
    "         {'name': 'a silver mt. zion', 'country': 'Spain', 'active': True}]\n",
    "\n",
    "map_out = (pipeline_each(bands, [call(lambda x: 'Canada', 'country'),\n",
    "                            call(lambda x: x.replace('.', ''), 'name'),\n",
    "                            call(str.title, 'name'),\n",
    "                            extract_name_and_country]))\n",
    "\n"
   ]
  },
  {
   "cell_type": "code",
   "execution_count": 69,
   "metadata": {},
   "outputs": [
    {
     "name": "stdout",
     "output_type": "stream",
     "text": [
      "{'name': 'Sunset Rubdown', 'country': 'Canada'}\n",
      "{'name': 'Women', 'country': 'Canada'}\n",
      "{'name': 'A Silver Mt Zion', 'country': 'Canada'}\n"
     ]
    }
   ],
   "source": [
    "\"\"\"\n",
    "In python, maps return iterators, so you will need to interate over the map object in order to get the data\n",
    "\n",
    "\"\"\"\n",
    "for item in map_out:\n",
    "    print(item)"
   ]
  },
  {
   "cell_type": "code",
   "execution_count": null,
   "metadata": {
    "collapsed": true
   },
   "outputs": [],
   "source": []
  }
 ],
 "metadata": {
  "kernelspec": {
   "display_name": "Python 3",
   "language": "python",
   "name": "python3"
  },
  "language_info": {
   "codemirror_mode": {
    "name": "ipython",
    "version": 3
   },
   "file_extension": ".py",
   "mimetype": "text/x-python",
   "name": "python",
   "nbconvert_exporter": "python",
   "pygments_lexer": "ipython3",
   "version": "3.6.2"
  }
 },
 "nbformat": 4,
 "nbformat_minor": 2
}
